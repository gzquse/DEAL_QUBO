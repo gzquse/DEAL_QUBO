{
 "cells": [
  {
   "cell_type": "code",
   "execution_count": null,
   "metadata": {},
   "outputs": [],
   "source": [
    "# --------------------------------------------------\n",
    "# Simulating with noise model from actual hardware\n",
    "# --------------------------------------------------\n",
    "from qiskit_ibm_runtime import QiskitRuntimeService\n",
    "# These are the properties for the publicly available provider for IBM backends.\n",
    "# If you have access to a private provider and wish to use it, replace these values.\n",
    "hub = \"ibm-q\"\n",
    "group = \"open\"\n",
    "project = \"main\"\n",
    "token = \"d15cd0d8016389774102566f7b8f173547f859dd1ac3cb13f19dd0c07f5f058fc55f3358b470e1b8c3ed03ec05250c36f293a2f8142bf6272afeabf638bb9db3\"\n",
    "credentials = fo.credentials.make_credentials_for_ibmq(\n",
    "    token=token, hub=hub, group=group, project=project\n",
    ")\n",
    "supported_devices = fo.show_supported_devices(credentials=credentials)[\n",
    "    \"supported_devices\"\n",
    "]\n",
    "for name in supported_devices:\n",
    "    print(name)\n",
    "provider = QiskitRuntimeService(\n",
    "    token=token, instance=hub + \"/\" + group + \"/\" + project, channel=\"ibm_quantum\"\n",
    ")\n",
    "backend = provider.get_backend(\"ibm_brisbane\")\n",
    "\n",
    "# create sampler from the actual backend\n",
    "sampler = SamplerV2.from_backend(backend)\n",
    "\n",
    "# run a sampler job on the parameterized circuits with noise model of the actual hardware\n",
    "bell_t = transpile(bell, AerSimulator(basis_gates=[\"ecr\", \"id\", \"rz\", \"sx\"]), optimization_level=0)\n",
    "job3 = sampler.run([bell_t], shots=128)\n",
    "job_result = job3.result()\n",
    "print(f\"counts for Bell circuit w/noise: {job_result[0].data.meas.get_counts()}\")"
   ]
  }
 ],
 "metadata": {
  "language_info": {
   "name": "python"
  }
 },
 "nbformat": 4,
 "nbformat_minor": 2
}
