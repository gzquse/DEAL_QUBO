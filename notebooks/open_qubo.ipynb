{
 "cells": [
  {
   "cell_type": "code",
   "execution_count": 3,
   "id": "898bcb26-ee5c-484a-a6a0-b0927d49709e",
   "metadata": {},
   "outputs": [
    {
     "name": "stdout",
     "output_type": "stream",
     "text": [
      "/bin/bash: /global/homes/g/gzquse/.local/bin/pip: /opt/conda/bin/python3.8: bad interpreter: No such file or directory\n"
     ]
    }
   ],
   "source": [
    "!pip install openqaoa"
   ]
  },
  {
   "cell_type": "code",
   "execution_count": 2,
   "id": "2899a6b6-3a80-42bd-bd53-269422514b30",
   "metadata": {},
   "outputs": [
    {
     "ename": "ModuleNotFoundError",
     "evalue": "No module named 'openqaoa'",
     "output_type": "error",
     "traceback": [
      "\u001b[0;31m---------------------------------------------------------------------------\u001b[0m",
      "\u001b[0;31mModuleNotFoundError\u001b[0m                       Traceback (most recent call last)",
      "Cell \u001b[0;32mIn[2], line 16\u001b[0m\n\u001b[1;32m      1\u001b[0m \u001b[38;5;66;03m######################################################################\u001b[39;00m\n\u001b[1;32m      2\u001b[0m \u001b[38;5;66;03m# Unbalanced penalization (An alternative to slack variables)\u001b[39;00m\n\u001b[1;32m      3\u001b[0m \u001b[38;5;66;03m# -----------------------------------------------------------\u001b[39;00m\n\u001b[0;32m   (...)\u001b[0m\n\u001b[1;32m     13\u001b[0m \u001b[38;5;66;03m# that you don’t need slack variables for the inequality constraints anymore using this approach**.\u001b[39;00m\n\u001b[1;32m     14\u001b[0m \u001b[38;5;66;03m#\u001b[39;00m\n\u001b[0;32m---> 16\u001b[0m \u001b[38;5;28;01mfrom\u001b[39;00m \u001b[38;5;21;01mopenqaoa\u001b[39;00m\u001b[38;5;21;01m.\u001b[39;00m\u001b[38;5;21;01mproblems\u001b[39;00m \u001b[38;5;28;01mimport\u001b[39;00m FromDocplex2IsingModel\n\u001b[1;32m     17\u001b[0m \u001b[38;5;28;01mfrom\u001b[39;00m \u001b[38;5;21;01mdocplex\u001b[39;00m\u001b[38;5;21;01m.\u001b[39;00m\u001b[38;5;21;01mmp\u001b[39;00m\u001b[38;5;21;01m.\u001b[39;00m\u001b[38;5;21;01mmodel\u001b[39;00m \u001b[38;5;28;01mimport\u001b[39;00m Model\n\u001b[1;32m     20\u001b[0m \u001b[38;5;28;01mdef\u001b[39;00m \u001b[38;5;21mKnapsack\u001b[39m(values, weights, maximum_weight):\n",
      "\u001b[0;31mModuleNotFoundError\u001b[0m: No module named 'openqaoa'"
     ]
    }
   ],
   "source": [
    "######################################################################\n",
    "# Unbalanced penalization (An alternative to slack variables)\n",
    "# -----------------------------------------------------------\n",
    "#\n",
    "# Unbalanced penalization is a function characterized by a larger penalty when the inequality\n",
    "# constraint is not achieved than when it is. So we have to modify Eq. 7 to include a linear term in\n",
    "# the following way:\n",
    "#\n",
    "# .. math:: \\min_{x,s} \\left(f(x) + p(x,s)\\right) = \\min_{x,s} \\left(-\\sum_i v_i x_i - \\lambda_1 \\left(\\sum_i w_i x_i - W\\right) + \\lambda_2 \\left(\\sum_i w_i x_i - W\\right)^2\\right)\\tag{14}.\n",
    "#\n",
    "# where :math:`\\lambda_{1,2}` are again penalty coefficients. Here `[2] <https://arxiv.org/abs/2211.13914>`__ and `[3] <https://arxiv.org/pdf/2305.18757.pdf>`__ some details about unbalanced penalization. \n",
    "# The method is already implemented in `OpenQAOA <https://openqaoa.entropicalabs.com/>`__ and `D-Wave Ocean <https://docs.ocean.dwavesys.com/en/stable/>`__ so we don't have to code it ourselves. **The cliffnotes are\n",
    "# that you don’t need slack variables for the inequality constraints anymore using this approach**.\n",
    "#\n",
    "\n",
    "from openqaoa.problems import FromDocplex2IsingModel\n",
    "from docplex.mp.model import Model\n",
    "\n",
    "\n",
    "def Knapsack(values, weights, maximum_weight):\n",
    "    \"\"\"Create a docplex model of the problem. (Docplex is a classical solver from IBM)\"\"\"\n",
    "    n_items = len(values)\n",
    "    mdl = Model()\n",
    "    x = mdl.binary_var_list(range(n_items), name=\"x\")\n",
    "    cost = -mdl.sum(x[i] * values[i] for i in range(n_items))\n",
    "    mdl.minimize(cost)\n",
    "    mdl.add_constraint(mdl.sum(x[i] * weights[i] for i in range(n_items)) <= maximum_weight)\n",
    "    return mdl\n",
    "\n",
    "\n",
    "# Docplex model, we need to convert our problem in this format to use the unbalanced penalization approach\n",
    "mdl = Knapsack(values_list, weights_list, maximum_weight)\n",
    "lambda_1, lambda_2 = (\n",
    "    0.96,\n",
    "    0.0371,\n",
    ")  # Parameters of the unbalanced penalization function (They are in the main paper)\n",
    "ising_hamiltonian = FromDocplex2IsingModel(\n",
    "    mdl,\n",
    "    unbalanced_const=True,\n",
    "    strength_ineq=[lambda_1, lambda_2],  # https://arxiv.org/abs/2211.13914\n",
    ").ising_model\n",
    "\n",
    "h_new = {\n",
    "    tuple(i): w for i, w in zip(ising_hamiltonian.terms, ising_hamiltonian.weights) if len(i) == 1\n",
    "}\n",
    "J_new = {\n",
    "    tuple(i): w for i, w in zip(ising_hamiltonian.terms, ising_hamiltonian.weights) if len(i) == 2\n",
    "}\n",
    "\n",
    "samples_unbalanced = samples_dict(\n",
    "    qaoa_circuit(gammas, betas, h_new, J_new, num_qubits=n_items), n_items\n",
    ")\n",
    "values_unbalanced = {\n",
    "    sum_values(sample_i, values_list): count\n",
    "    for sample_i, count in samples_unbalanced.items()\n",
    "    if sum_weight(sample_i, weights_list) <= maximum_weight\n",
    "}  # saving only the solutions that fulfill the constraint\n",
    "\n",
    "print(\n",
    "    f\"The number of solutions using unbalanced penalization is {samples_unbalanced[opt_str]} out of {shots}\"\n",
    ")\n"
   ]
  },
  {
   "cell_type": "code",
   "execution_count": null,
   "id": "1e608348-c924-47bc-b5b8-f84b8e6dd378",
   "metadata": {},
   "outputs": [],
   "source": []
  }
 ],
 "metadata": {
  "kernelspec": {
   "display_name": "pennylane",
   "language": "python",
   "name": "pennylane"
  },
  "language_info": {
   "codemirror_mode": {
    "name": "ipython",
    "version": 3
   },
   "file_extension": ".py",
   "mimetype": "text/x-python",
   "name": "python",
   "nbconvert_exporter": "python",
   "pygments_lexer": "ipython3",
   "version": "3.10.14"
  }
 },
 "nbformat": 4,
 "nbformat_minor": 5
}
