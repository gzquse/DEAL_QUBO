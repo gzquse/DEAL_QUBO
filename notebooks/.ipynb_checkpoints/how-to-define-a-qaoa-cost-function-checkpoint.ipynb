{
 "cells": [
  {
   "attachments": {},
   "cell_type": "markdown",
   "metadata": {},
   "source": [
    "# How to define a QAOA cost function\n",
    "**Defining the input cost function for Fire Opal's QAOA Solver**\n",
    "\n",
    "Fire Opal's [QAOA Solver](https://docs.q-ctrl.com/fire-opal/topics/fire-opals-qaoa-solver)'s flexible input definition offers flexibility to enable you to solve any type of QAOA problem.\n",
    "One possible input is a `NetworkX Graph` object, which is automatically converted by Fire Opal to a cost function and mapped to qubits.\n",
    "\n",
    "Alternatively, the solver accepts a user-defined cost function as input, which makes it possible to define and solve both constrained and unconstrained optimization problems. This guide only covers the use of a cost function as an input. For an example on using an input graph with the QAOA Solver, check out the tutorial on [Solving MaxCut using Fire Opal](https://docs.q-ctrl.com/fire-opal/apply/solve-max-cut-using-fire-opal).\n",
    "\n",
    "This guide provides examples of a few types of optimization problems that can be solved using the QAOA Solver and demonstrates how to construct the cost function as an input. The following problem types are covered:\n",
    "1. An unconstrained graph problem: MaxCut.\n",
    "1. A constrained problem, using penalty terms to formulate the constraints: Minimum Vertex Cover (MVC).\n",
    "1. A generalized unconstrained problem formulation: Quadratic Unconstrained Binary Optimization (QUBO).\n",
    "\n",
    "The problems explained in ths guide are just a few examples; the QAOA Solver can be used to solve all sorts of optimization problems. For more information on building cost functions for optimization problems, [this article](https://www.frontiersin.org/articles/10.3389/fphy.2014.00005/full) provides detailed explanation."
   ]
  },
  {
   "attachments": {},
   "cell_type": "markdown",
   "metadata": {},
   "source": [
    "## Summary workflow\n",
    "The following steps describe the general workflow for defining the QAOA problem and solving it using Fire Opal's `solve_qaoa` function.\n",
    "\n",
    "### 1. Define the cost function to minimize\n",
    "Start by building a graph with a given list of nodes and edges. Using binary variables $n \\in {0, 1}$, create a problem-dependent cost function to be minimized.\n",
    "\n",
    "### 2. Add penalty terms to the cost function (optional)\n",
    "If there are constraints to the problem, they can be included as a penalty terms in the cost function.\n",
    "\n",
    "### 3. Solve the problem with Fire Opal's QAOA Solver\n",
    "Solve the problem using Fire Opal's QAOA Solver. The problem (represented by the `SymPy` cost function or `NetworkX` graph) and problem type (`String`) are passed as parameters, and the output `Dict` is stored in the `result` variable.\n",
    "\n",
    "    job = fireopal.solve_qaoa(problem, problem_type, ...)\n",
    "    result = job.result()\n"
   ]
  },
  {
   "attachments": {},
   "cell_type": "markdown",
   "metadata": {},
   "source": [
    "## Example: The MaxCut problem\n",
    "\n",
    "Given some undirected graph $G(V, E)$ with a vertex set $V$ and an edge set $E$, a cut is defined as a partition of the nodes $V$ of a graph into two subsets. The value of a given cut is the sum of weights of all edges that connect two nodes that belongs to different subsets. The [MaxCut problem](https://en.wikipedia.org/wiki/Maximum_cut) is defined as follows: given some undirected graph $G$, find the cut with the maximal value.\n",
    "\n",
    "To encode this problem on a quantum computer, a qubit is assigned to each graph node. The following code defines an example problem setup by created a random graph."
   ]
  },
  {
   "cell_type": "code",
   "execution_count": 1,
   "metadata": {},
   "outputs": [],
   "source": [
    "import numpy as np\n",
    "\n",
    "# Given a graph with randomly weighted edges.\n",
    "# To change the weights, change the seed to any integer.\n",
    "_rng = np.random.default_rng(seed=99)\n",
    "node_count = 7\n",
    "edges = [(0, 1), (1, 3), (1, 2), (3, 4), (4, 5), (4, 6)]\n",
    "weighted_edges = [(*edge, _rng.random()) for edge in edges]"
   ]
  },
  {
   "attachments": {},
   "cell_type": "markdown",
   "metadata": {},
   "source": [
    "To model this problem, binary variables can be used such that $n_i = 1$ if vertex $i$ is in one set and $n_j = 0$ if it is in the other set. We can determine if an edge $(i,j)$ is in the cut by evaluating the expression $n_i + n_j − 2n_i n_j$, which is equal to 1 if and only if the endpoints of the edge belong to different subsets. Otherwise $(n_i + n_j − 2n_i n_j)$ is equal to zero and the edge is not in the cut.\n",
    "\n",
    "Therefore, the objective is to maximize the sum of the weights of edges in the cut, which can be formulated as follows:\n",
    "$$\\textbf{Maximize}\\qquad y = \\sum_{(i,j)\\in E} \\omega_{i,j}(n_i + n_j − 2n_i n_j)$$\n",
    "where $\\omega_{i,j}$ is the weight of edge $(i,j)$.\n",
    "\n",
    "However, since the Fire Opal's QAOA Solver takes the input cost function as a minimization problem, we can rewrite the objective as follows:\n",
    "$$\\textbf{Minimize}\\qquad y = - \\sum_{(i,j)\\in E} \\omega_{i,j}(n_i + n_j − 2n_i n_j)$$\n",
    "This is the standard unconstrained binary optimization model for the MaxCut problem."
   ]
  },
  {
   "cell_type": "code",
   "execution_count": 2,
   "metadata": {},
   "outputs": [
    {
     "data": {
      "text/latex": [
       "$\\displaystyle 0.506030674548394 n[0] n[1] - 0.506030674548394 n[0] + 0.511915959692052 n[1] n[2] + 0.565091631784488 n[1] n[3] - 1.58303826602493 n[1] - 0.511915959692052 n[2] + 0.972186372136213 n[3] n[4] - 1.5372780039207 n[3] + 0.614903141969124 n[4] n[5] + 0.568283497894576 n[4] n[6] - 2.15537301199991 n[4] - 0.614903141969124 n[5] - 0.568283497894576 n[6]$"
      ],
      "text/plain": [
       "0.506030674548394*n[0]*n[1] - 0.506030674548394*n[0] + 0.511915959692052*n[1]*n[2] + 0.565091631784488*n[1]*n[3] - 1.58303826602493*n[1] - 0.511915959692052*n[2] + 0.972186372136213*n[3]*n[4] - 1.5372780039207*n[3] + 0.614903141969124*n[4]*n[5] + 0.568283497894576*n[4]*n[6] - 2.15537301199991*n[4] - 0.614903141969124*n[5] - 0.568283497894576*n[6]"
      ]
     },
     "execution_count": 2,
     "metadata": {},
     "output_type": "execute_result"
    }
   ],
   "source": [
    "from sympy import symbols\n",
    "\n",
    "# Construct the cost function.\n",
    "variables = symbols([f\"n[{i}]\" for i in range(node_count)])\n",
    "cost_function = 0\n",
    "\n",
    "for i, j, weight in weighted_edges:\n",
    "    cost_function -= (\n",
    "        variables[i] + variables[j] - variables[i] * variables[j]\n",
    "    ) * weight\n",
    "\n",
    "# Display the cost function.\n",
    "cost_function"
   ]
  },
  {
   "attachments": {},
   "cell_type": "markdown",
   "metadata": {},
   "source": [
    "## Example: The Minimum Vertex Cover (MVC) problem\n",
    "\n",
    "Given an undirected graph $G(V, E)$ with a vertex set $V$ and an edge set $E$, a vertex cover is a subset of the vertices (nodes) such that each edge in the graph is connected to at least one vertex in the subset. The Minimum Vertex Cover problem seeks to find a cover with a minimum number of vertices in the subset.\n",
    "\n",
    "The following code defines and sets up a random MVC problem."
   ]
  },
  {
   "cell_type": "code",
   "execution_count": null,
   "metadata": {},
   "outputs": [],
   "source": [
    "# Given a graph with randomly weighted nodes.\n",
    "# To change the weights, change the seed to any integer.\n",
    "_rng = np.random.default_rng(seed=99)\n",
    "node_count = 7\n",
    "edges = [(0, 3), (0, 4), (1, 3), (2, 3), (2, 4), (2, 5), (4, 5), (4, 6), (5, 6)]\n",
    "weighted_nodes = [(node, _rng.random()) for node in range(node_count)]"
   ]
  },
  {
   "attachments": {},
   "cell_type": "markdown",
   "metadata": {},
   "source": [
    "A standard optimization model for weighted MVC can be formulated as follows. First, a penalty must be added for any case where an edge is not connected to a vertex in the subset. Therefore, let $n_i = 1$ if vertex $i$ is in the cover (i.e., in the subset) and $n_i = 0$ otherwise. Second, the goal is to minimize the total number of vertices in the subset, which can be represented by the following function:\n",
    "$$\\textbf{Minimize}\\qquad y = \\sum_{i\\in V} \\omega_i n_i$$"
   ]
  },
  {
   "cell_type": "code",
   "execution_count": 4,
   "metadata": {},
   "outputs": [
    {
     "data": {
      "text/latex": [
       "$\\displaystyle 0.286786722869132 n[0] + 0.554511453248897 n[1] + 0.467523525550902 n[2] + 0.610058008019437 n[3] + 0.930442497679666 n[4] + 0.245885383640433 n[5] + 0.309438338643525 n[6]$"
      ],
      "text/plain": [
       "0.286786722869132*n[0] + 0.554511453248897*n[1] + 0.467523525550902*n[2] + 0.610058008019437*n[3] + 0.930442497679666*n[4] + 0.245885383640433*n[5] + 0.309438338643525*n[6]"
      ]
     },
     "execution_count": 4,
     "metadata": {},
     "output_type": "execute_result"
    }
   ],
   "source": [
    "# Construct the cost function.\n",
    "variables = symbols([f\"n[{i}]\" for i in range(node_count)])\n",
    "cost_function = 0\n",
    "\n",
    "for i, weight in weighted_nodes:\n",
    "    cost_function += variables[i] * weight\n",
    "\n",
    "# Display the cost function.\n",
    "cost_function"
   ]
  },
  {
   "attachments": {},
   "cell_type": "markdown",
   "metadata": {},
   "source": [
    "Now every edge in the graph should include at least one end point from the cover, which can be expressed as the inequality: \n",
    "$$n_i + n_j \\ge 1 \\texttt{ for all } (i,j)\\in E$$\n",
    "\n",
    "Any case where an edge is not connected to the vertex of cover must be penalized. This can be represented in the cost function by adding a penalty of the form $P(1-n_i-n_j+n_i n_j)$ where $P$ is a positive penalty constant. Thus, an unconstrained alternative to the constrained inequality for weighted MVC is:\n",
    "$$\\textbf{Minimize}\\qquad y = \\sum_{i\\in V}\\omega_i n_i + P(\\sum_{(i,j)\\in E}(1 - n_i - n_j + n_i n_j))$$"
   ]
  },
  {
   "cell_type": "code",
   "execution_count": 5,
   "metadata": {},
   "outputs": [
    {
     "data": {
      "text/latex": [
       "$\\displaystyle 2 n[0] n[3] + 2 n[0] n[4] - 3.71321327713087 n[0] + 2 n[1] n[3] - 1.4454885467511 n[1] + 2 n[2] n[3] + 2 n[2] n[4] + 2 n[2] n[5] - 5.5324764744491 n[2] - 5.38994199198056 n[3] + 2 n[4] n[5] + 2 n[4] n[6] - 7.06955750232033 n[4] + 2 n[5] n[6] - 5.75411461635957 n[5] - 3.69056166135648 n[6] + 18$"
      ],
      "text/plain": [
       "2*n[0]*n[3] + 2*n[0]*n[4] - 3.71321327713087*n[0] + 2*n[1]*n[3] - 1.4454885467511*n[1] + 2*n[2]*n[3] + 2*n[2]*n[4] + 2*n[2]*n[5] - 5.5324764744491*n[2] - 5.38994199198056*n[3] + 2*n[4]*n[5] + 2*n[4]*n[6] - 7.06955750232033*n[4] + 2*n[5]*n[6] - 5.75411461635957*n[5] - 3.69056166135648*n[6] + 18"
      ]
     },
     "execution_count": 5,
     "metadata": {},
     "output_type": "execute_result"
    }
   ],
   "source": [
    "# Add penalty term.\n",
    "penalty_constant = 2\n",
    "for i, j in edges:\n",
    "    cost_function += penalty_constant * (\n",
    "        1 - variables[i] - variables[j] + variables[i] * variables[j]\n",
    "    )\n",
    "\n",
    "# Display the cost function.\n",
    "cost_function"
   ]
  },
  {
   "attachments": {},
   "cell_type": "markdown",
   "metadata": {},
   "source": [
    "## Example: The Quadratic Unconstrained Binary Optimization (QUBO)\n",
    "All the cost functions constructed prior have a common feature: they all contain weighted sums on linear ($n_i$) or quadratic ($n_in_j$) terms of binary variables. Such cost functions can be written as a bilinear form of a vector $\\vec{N}^T = (n_1,...,n_{|G|})$ and a symmetric matrix $Q$:\n",
    "$$C = \\vec{N}^TQ\\vec{N} = \\sum\\limits_{i\\in G} Q_{ii}n_i + 2\\sum\\limits_{i<j\\in G} Q_{ij}n_in_j$$\n",
    "where $n_i^2 = n_i$. Hence, any symmetric matrix $Q$ defines a valid quadratic unconstrained binary optimization that may include penalty terms."
   ]
  },
  {
   "cell_type": "code",
   "execution_count": 8,
   "metadata": {},
   "outputs": [
    {
     "data": {
      "text/latex": [
       "$\\displaystyle 2 n[0] n[1] - 2 n[0] n[2] + 2 n[0] - 2 n[1] n[3] + 2 n[1] - 2 n[2] n[3] - 2 n[2] n[4] + 3 n[2] - 2 n[3] n[4] + 3 n[3] + 2 n[4]$"
      ],
      "text/plain": [
       "2*n[0]*n[1] - 2*n[0]*n[2] + 2*n[0] - 2*n[1]*n[3] + 2*n[1] - 2*n[2]*n[3] - 2*n[2]*n[4] + 3*n[2] - 2*n[3]*n[4] + 3*n[3] + 2*n[4]"
      ]
     },
     "execution_count": 8,
     "metadata": {},
     "output_type": "execute_result"
    }
   ],
   "source": [
    "# Given any symmetric matrix Q, we can formulate the cost function as the input of QAOA solver.\n",
    "Q = np.array(\n",
    "    [\n",
    "        [2, 1, -1, 0, 0],\n",
    "        [1, 2, 0, -1, 0],\n",
    "        [-1, 0, 3, -1, -1],\n",
    "        [0, -1, -1, 3, -1],\n",
    "        [0, 0, -1, -1, 2],\n",
    "    ]\n",
    ")\n",
    "\n",
    "# Construct the cost function.\n",
    "node_count, _ = Q.shape\n",
    "variables = symbols([f\"n[{i}]\" for i in range(node_count)])\n",
    "cost_function = 0\n",
    "\n",
    "for i in range(node_count):\n",
    "    for j in range(node_count):\n",
    "        if i == j:\n",
    "            cost_function += variables[i] * Q[i, j]\n",
    "        if i < j:\n",
    "            cost_function += variables[i] * variables[j] * 2 * Q[i, j]\n",
    "\n",
    "# Display the cost function.\n",
    "cost_function"
   ]
  },
  {
   "cell_type": "code",
   "execution_count": 1,
   "metadata": {},
   "outputs": [
    {
     "name": "stdout",
     "output_type": "stream",
     "text": [
      "| Package   | Version |\n",
      "| --------- | ------- |\n",
      "| Python    | 3.11.3  |\n",
      "| networkx  | 2.8.8   |\n",
      "| numpy     | 1.23.5  |\n",
      "| sympy     | 1.12    |\n",
      "| fire-opal | 5.3.2   |\n"
     ]
    }
   ],
   "source": [
    "from fireopal import print_package_versions\n",
    "\n",
    "print_package_versions()"
   ]
  }
 ],
 "metadata": {
  "kernelspec": {
   "display_name": "cudaq",
   "language": "python",
   "name": "cudaq"
  },
  "language_info": {
   "codemirror_mode": {
    "name": "ipython",
    "version": 3
   },
   "file_extension": ".py",
   "mimetype": "text/x-python",
   "name": "python",
   "nbconvert_exporter": "python",
   "pygments_lexer": "ipython3",
   "version": "3.10.14"
  }
 },
 "nbformat": 4,
 "nbformat_minor": 4
}
