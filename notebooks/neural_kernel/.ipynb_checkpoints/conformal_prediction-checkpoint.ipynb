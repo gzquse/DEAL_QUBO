{
 "cells": [
  {
   "cell_type": "code",
   "execution_count": null,
   "metadata": {},
   "outputs": [],
   "source": [
    "import numpy as np\n",
    "from sklearn.model_selection import train_test_split\n",
    "from sklearn.linear_model import LinearRegression\n",
    "from sklearn.metrics import mean_absolute_error\n",
    "import matplotlib.pyplot as plt\n",
    "\n",
    "# Generate synthetic data\n",
    "np.random.seed(0)\n",
    "X = np.linspace(0, 10, 100).reshape(-1, 1)\n",
    "y = 3 * X.flatten() + np.random.normal(0, 1, 100)  # Linear relation with noise\n",
    "\n",
    "# Split data into training and calibration sets\n",
    "X_train, X_calib, y_train, y_calib = train_test_split(X, y, test_size=0.2, random_state=42)\n",
    "\n",
    "# Train a linear regression model\n",
    "model = LinearRegression()\n",
    "model.fit(X_train, y_train)\n",
    "\n",
    "# Predict on calibration set and compute residuals\n",
    "y_calib_pred = model.predict(X_calib)\n",
    "residuals = np.abs(y_calib - y_calib_pred)\n",
    "\n",
    "# Set the desired confidence level (e.g., 95%)\n",
    "confidence_level = 0.95\n",
    "quantile = np.quantile(residuals, confidence_level)  # quantile-based threshold\n",
    "\n",
    "# Predict on new data\n",
    "X_test = np.linspace(0, 10, 100).reshape(-1, 1)\n",
    "y_test_pred = model.predict(X_test)\n",
    "\n",
    "# Create prediction intervals\n",
    "lower_bound = y_test_pred - quantile\n",
    "upper_bound = y_test_pred + quantile\n",
    "\n",
    "# Plotting\n",
    "plt.figure(figsize=(10, 6))\n",
    "plt.plot(X, y, \"o\", label=\"True data\", alpha=0.5)\n",
    "plt.plot(X_test, y_test_pred, label=\"Predicted regression line\", color=\"red\")\n",
    "plt.fill_between(\n",
    "    X_test.flatten(),\n",
    "    lower_bound,\n",
    "    upper_bound,\n",
    "    color=\"gray\",\n",
    "    alpha=0.3,\n",
    "    label=f\"{int(confidence_level * 100)}% Prediction Interval\",\n",
    ")\n",
    "plt.xlabel(\"X\")\n",
    "plt.ylabel(\"y\")\n",
    "plt.legend()\n",
    "plt.title(\"Conformal Prediction Interval for Linear Regression\")\n",
    "plt.show()\n"
   ]
  },
  {
   "cell_type": "code",
   "execution_count": null,
   "metadata": {},
   "outputs": [],
   "source": []
  }
 ],
 "metadata": {
  "language_info": {
   "name": "python"
  }
 },
 "nbformat": 4,
 "nbformat_minor": 2
}
