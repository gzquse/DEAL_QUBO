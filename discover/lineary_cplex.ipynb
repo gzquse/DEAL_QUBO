{
 "cells": [
  {
   "cell_type": "code",
   "execution_count": 3,
   "metadata": {},
   "outputs": [],
   "source": [
    "from docplex.mp.model import Model\n",
    "\n",
    "m = Model(name='telephone_production')"
   ]
  },
  {
   "cell_type": "code",
   "execution_count": 4,
   "metadata": {},
   "outputs": [],
   "source": [
    "desk = m.continuous_var(name='desk')\n",
    "cell = m.continuous_var(name='cell')"
   ]
  },
  {
   "cell_type": "code",
   "execution_count": 5,
   "metadata": {},
   "outputs": [],
   "source": [
    "m.add_constraint(desk >= 100)\n",
    "\n",
    "m.add_constraint(cell >= 100)\n",
    "\n",
    "ct_assembly = m.add_constraint(0.2 * desk + 0.4 * cell <= 400)\n",
    "\n",
    "ct_painting = m.add_constraint(0.5 * desk + 0.4 * cell <= 490)"
   ]
  },
  {
   "cell_type": "code",
   "execution_count": 6,
   "metadata": {},
   "outputs": [],
   "source": [
    "m.maximize(12 * desk + 20 * cell)"
   ]
  },
  {
   "cell_type": "code",
   "execution_count": 7,
   "metadata": {},
   "outputs": [
    {
     "name": "stdout",
     "output_type": "stream",
     "text": [
      "Model: telephone_production\n",
      " - number of variables: 2\n",
      "   - binary=0, integer=0, continuous=2\n",
      " - number of constraints: 4\n",
      "   - linear=4\n",
      " - parameters: defaults\n",
      " - objective: maximize\n",
      " - problem type is: LP\n"
     ]
    }
   ],
   "source": [
    "m.print_information()"
   ]
  },
  {
   "cell_type": "code",
   "execution_count": 8,
   "metadata": {},
   "outputs": [],
   "source": [
    "s = m.solve()"
   ]
  },
  {
   "cell_type": "code",
   "execution_count": 9,
   "metadata": {},
   "outputs": [
    {
     "name": "stdout",
     "output_type": "stream",
     "text": [
      "objective: 20600.000\n",
      "status: OPTIMAL_SOLUTION(2)\n",
      "  desk=300.000\n",
      "  cell=850.000\n"
     ]
    }
   ],
   "source": [
    "m.print_solution()"
   ]
  },
  {
   "cell_type": "code",
   "execution_count": 10,
   "metadata": {},
   "outputs": [
    {
     "name": "stdout",
     "output_type": "stream",
     "text": [
      "-- cannot find parameters matching version: 22.1.2.0, using: 22.1.1.0\n",
      "- model is infeasible\n"
     ]
    }
   ],
   "source": [
    "# create a new model, copy of m\n",
    "im = m.copy()\n",
    "# get the 'desk' variable of the new model from its name\n",
    "idesk = im.get_var_by_name('desk')\n",
    "# add a new (infeasible) constraint\n",
    "im.add_constraint(idesk >= 1100);\n",
    "# solve the new proble, we expect a result of None as the model is now infeasible\n",
    "ims = im.solve()\n",
    "if ims is None:\n",
    "    print('- model is infeasible')"
   ]
  },
  {
   "cell_type": "code",
   "execution_count": 11,
   "metadata": {},
   "outputs": [],
   "source": [
    "# sof constaints\n",
    "overtime = m.continuous_var(name='overtime', ub=40)\n",
    "ct_assembly.rhs = 400 + overtime\n",
    "\n",
    "m.maximize(12 * desk + 20 * cell - 2 * overtime)"
   ]
  },
  {
   "cell_type": "code",
   "execution_count": 12,
   "metadata": {},
   "outputs": [
    {
     "name": "stdout",
     "output_type": "stream",
     "text": [
      "objective: 22253.333\n",
      "status: OPTIMAL_SOLUTION(2)\n",
      "  desk=166.667\n",
      "  cell=1016.667\n",
      "  overtime=40.000\n"
     ]
    }
   ],
   "source": [
    "s2 = m.solve()\n",
    "m.print_solution()"
   ]
  },
  {
   "cell_type": "code",
   "execution_count": 13,
   "metadata": {},
   "outputs": [
    {
     "name": "stdout",
     "output_type": "stream",
     "text": [
      "* desk variable has reduced cost: 0\n",
      "* cell variable has reduced cost: 0\n"
     ]
    }
   ],
   "source": [
    "print('* desk variable has reduced cost: {0}'.format(desk.reduced_cost))\n",
    "print('* cell variable has reduced cost: {0}'.format(cell.reduced_cost))"
   ]
  },
  {
   "cell_type": "code",
   "execution_count": 16,
   "metadata": {},
   "outputs": [
    {
     "name": "stdout",
     "output_type": "stream",
     "text": [
      "* slack value for assembly time constraint is: 0\n",
      "* slack value for painting time constraint is: 0\n"
     ]
    }
   ],
   "source": [
    "# revert soft constraints\n",
    "ct_assembly.rhs = 400\n",
    "s3 = m.solve()\n",
    "\n",
    "# now get slack value for assembly constraint: expected value is 40\n",
    "print('* slack value for assembly time constraint is: {0}'.format(ct_assembly.slack_value))\n",
    "# get slack value for painting time constraint, expected value is 0.\n",
    "print('* slack value for painting time constraint is: {0}'.format(ct_painting.slack_value))"
   ]
  },
  {
   "cell_type": "code",
   "execution_count": 17,
   "metadata": {},
   "outputs": [
    {
     "name": "stdout",
     "output_type": "stream",
     "text": [
      "Version identifier: 22.1.2.0 | 2024-12-10 | f4cec290b\n",
      "CPXPARAM_Read_DataCheck                          1\n",
      "CPXPARAM_LPMethod                                4\n",
      "Tried aggregator 1 time.\n",
      "LP Presolve eliminated 2 rows and 1 columns.\n",
      "Reduced LP has 2 rows, 2 columns, and 4 nonzeros.\n",
      "Presolve time = 0.15 sec. (0.00 ticks)\n",
      "Parallel mode: using up to 32 threads for barrier.\n",
      "Number of nonzeros in lower triangle of A*A' = 1\n",
      "Using Approximate Minimum Degree ordering\n",
      "Total time for automatic ordering = 0.02 sec. (0.00 ticks)\n",
      "Summary statistics for Cholesky factor:\n",
      "  Threads                   = 32\n",
      "  Rows in Factor            = 2\n",
      "  Integer space required    = 2\n",
      "  Total non-zeros in factor = 3\n",
      "  Total FP ops to factor    = 5\n",
      " Itn      Primal Obj        Dual Obj  Prim Inf Upper Inf  Dual Inf Inf Ratio\n",
      "   0   8.9784782e+03  -3.2000000e+03  5.68e-14  0.00e+00  6.60e+01  1.00e+00\n",
      "   1   1.7820775e+04   9.6586492e+03  0.00e+00  0.00e+00  1.84e+01  8.19e-01\n",
      "   2   1.7373513e+04   1.8991282e+04  6.63e-11  0.00e+00  4.45e+00  1.66e+04\n",
      "   3   2.0536318e+04   2.0867813e+04  6.30e-12  0.00e+00  3.55e-03  1.91e+04\n",
      "   4   2.0593111e+04   2.0602600e+04  7.20e-13  0.00e+00  1.23e-04  1.32e+05\n",
      "   5   2.0599999e+04   2.0600000e+04  1.38e-12  0.00e+00  1.23e-08  6.30e+07\n",
      "   6   2.0600000e+04   2.0600000e+04  6.00e-13  0.00e+00  1.23e-12  5.39e+11\n",
      "   7   2.0600000e+04   2.0600000e+04  1.20e-13  0.00e+00  3.99e-15  5.39e+15\n",
      "Barrier time = 0.22 sec. (0.01 ticks)\n",
      "Parallel mode: deterministic, using up to 32 threads for concurrent optimization:\n",
      " * Starting dual Simplex on 1 thread...\n",
      " * Starting primal Simplex on 1 thread...\n",
      "\n",
      "Dual simplex solved model.\n",
      "\n",
      "Total crossover time = 0.20 sec. (0.00 ticks)\n",
      "\n",
      "Total time on 32 threads = 0.62 sec. (0.02 ticks)\n"
     ]
    },
    {
     "data": {
      "text/plain": [
       "docplex.mp.solution.SolveSolution(obj=20600,values={desk:300,cell:850})"
      ]
     },
     "execution_count": 17,
     "metadata": {},
     "output_type": "execute_result"
    }
   ],
   "source": [
    "m.parameters.lpmethod = 4\n",
    "m.solve(log_output=True)"
   ]
  },
  {
   "cell_type": "code",
   "execution_count": null,
   "metadata": {},
   "outputs": [],
   "source": []
  }
 ],
 "metadata": {
  "kernelspec": {
   "display_name": "qaoa",
   "language": "python",
   "name": "python3"
  },
  "language_info": {
   "codemirror_mode": {
    "name": "ipython",
    "version": 3
   },
   "file_extension": ".py",
   "mimetype": "text/x-python",
   "name": "python",
   "nbconvert_exporter": "python",
   "pygments_lexer": "ipython3",
   "version": "3.10.16"
  }
 },
 "nbformat": 4,
 "nbformat_minor": 2
}
