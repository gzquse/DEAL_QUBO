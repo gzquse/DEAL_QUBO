{
 "cells": [
  {
   "cell_type": "code",
   "execution_count": 1,
   "metadata": {},
   "outputs": [
    {
     "name": "stdout",
     "output_type": "stream",
     "text": [
      "BinaryQuadraticModel({'s1': 1.0, 's2': 1.5}, {('s2', 's1'): 3.5}, 0.0, 'SPIN')\n"
     ]
    }
   ],
   "source": [
    "# Example Conversion Code Skeleton\n",
    "from docplex.mp.model import Model\n",
    "import dimod\n",
    "\n",
    "# 1. Extract Docplex model\n",
    "model = Model()\n",
    "x = model.binary_var_list(2)\n",
    "model.minimize(3*x[0] + 4*x[1] - 2*x[0]*x[1])\n",
    "model.add(x[0] + x[1] == 1)\n",
    "\n",
    "# 2. Convert to Ising\n",
    "# (Implement steps 1-5 here, then output h and J)\n",
    "h = {'s1': 1.0, 's2': 1.5}\n",
    "J = {('s1', 's2'): 3.5}\n",
    "ising_model = dimod.BinaryQuadraticModel(h, J, 0.0, dimod.SPIN)\n",
    "\n",
    "print(ising_model)"
   ]
  },
  {
   "cell_type": "code",
   "execution_count": null,
   "metadata": {},
   "outputs": [],
   "source": []
  }
 ],
 "metadata": {
  "kernelspec": {
   "display_name": "qaoa",
   "language": "python",
   "name": "python3"
  },
  "language_info": {
   "codemirror_mode": {
    "name": "ipython",
    "version": 3
   },
   "file_extension": ".py",
   "mimetype": "text/x-python",
   "name": "python",
   "nbconvert_exporter": "python",
   "pygments_lexer": "ipython3",
   "version": "3.10.16"
  }
 },
 "nbformat": 4,
 "nbformat_minor": 2
}
