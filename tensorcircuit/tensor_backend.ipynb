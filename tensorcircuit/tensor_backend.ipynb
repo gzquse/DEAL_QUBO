{
 "cells": [
  {
   "cell_type": "code",
   "execution_count": null,
   "metadata": {},
   "outputs": [],
   "source": [
    "!pip install tensorflow\n",
    "!pip install jax\n",
    "!pip install tensorcircuit-ng\n",
    "!pip install optax"
   ]
  },
  {
   "cell_type": "code",
   "execution_count": 2,
   "metadata": {},
   "outputs": [
    {
     "name": "stdout",
     "output_type": "stream",
     "text": [
      "(<tf.Tensor: shape=(), dtype=float32, numpy=0.7505349516868591>, <tf.Tensor: shape=(2, 1), dtype=float32, numpy=\n",
      "array([[-6.6083074e-01],\n",
      "       [-1.4901161e-08]], dtype=float32)>)\n"
     ]
    }
   ],
   "source": [
    "import tensorcircuit as tc\n",
    "import tensorflow as tf\n",
    "\n",
    "K = tc.set_backend(\"tensorflow\")\n",
    "\n",
    "n = 1\n",
    "\n",
    "\n",
    "def loss(params, n):\n",
    "    c = tc.Circuit(n)\n",
    "    for i in range(n):\n",
    "        c.rx(i, theta=params[0, i])\n",
    "    for i in range(n):\n",
    "        c.rz(i, theta=params[1, i])\n",
    "    loss = 0.0\n",
    "    for i in range(n):\n",
    "        loss += c.expectation([tc.gates.z(), [i]])\n",
    "    return tf.math.real(loss)\n",
    "\n",
    "def vgf(params, n):\n",
    "    with tf.GradientTape() as tape:\n",
    "        tape.watch(params)\n",
    "        l = loss(params, n)\n",
    "    return l, tape.gradient(l, params)\n",
    "\n",
    "vgf = tf.function(vgf)\n",
    "params = tf.random.normal([2, n])\n",
    "print(vgf(params, n))  # get the quantum loss and the gradient"
   ]
  },
  {
   "cell_type": "code",
   "execution_count": 3,
   "metadata": {},
   "outputs": [
    {
     "name": "stdout",
     "output_type": "stream",
     "text": [
      "(<tf.Tensor: shape=(), dtype=float32, numpy=0.8647469282150269>, <tf.Tensor: shape=(2, 1), dtype=float32, numpy=\n",
      "array([[-0.5022077],\n",
      "       [ 0.       ]], dtype=float32)>)\n"
     ]
    }
   ],
   "source": [
    "import tensorcircuit as tc\n",
    "\n",
    "K = tc.set_backend(\"tensorflow\")\n",
    "\n",
    "n = 1\n",
    "\n",
    "\n",
    "def loss(params, n):\n",
    "    c = tc.Circuit(n)\n",
    "    for i in range(n):\n",
    "        c.rx(i, theta=params[0, i])\n",
    "    for i in range(n):\n",
    "        c.rz(i, theta=params[1, i])\n",
    "    loss = 0.0\n",
    "    for i in range(n):\n",
    "        loss += c.expectation([tc.gates.z(), [i]])\n",
    "    return K.real(loss)\n",
    "\n",
    "\n",
    "vgf = K.jit(K.value_and_grad(loss), static_argnums=1)\n",
    "params = K.implicit_randn([2, n])\n",
    "print(vgf(params, n))  # get the quantum loss and the gradient"
   ]
  },
  {
   "cell_type": "code",
   "execution_count": null,
   "metadata": {},
   "outputs": [],
   "source": []
  }
 ],
 "metadata": {
  "kernelspec": {
   "display_name": "tc",
   "language": "python",
   "name": "python3"
  },
  "language_info": {
   "codemirror_mode": {
    "name": "ipython",
    "version": 3
   },
   "file_extension": ".py",
   "mimetype": "text/x-python",
   "name": "python",
   "nbconvert_exporter": "python",
   "pygments_lexer": "ipython3",
   "version": "3.11.11"
  }
 },
 "nbformat": 4,
 "nbformat_minor": 2
}
