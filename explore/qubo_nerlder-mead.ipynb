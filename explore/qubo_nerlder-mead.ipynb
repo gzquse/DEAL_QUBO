{
 "cells": [
  {
   "cell_type": "code",
   "execution_count": 1,
   "metadata": {},
   "outputs": [],
   "source": [
    "def qubo_objective(lambdas, c, h, q, l, C, B, x):\n",
    "    lambda_0, lambda_1, lambda_2 = lambdas\n",
    "\n",
    "    # QUBO terms\n",
    "    obj = sum(c[i][j] * x[i] * x[j] for i in range(len(x)) for j in range(i+1, len(x)))\n",
    "    obj += sum(h[i] * x[i] for i in range(len(x)))\n",
    "\n",
    "    # Equality penalty\n",
    "    equality = lambda_0 * (sum(q[i] * x[i] for i in range(len(x))) - C) ** 2\n",
    "\n",
    "    # Inequality penalties\n",
    "    inequality_1 = -lambda_1 * (B - sum(l[i] * x[i] for i in range(len(x))))\n",
    "    inequality_2 = lambda_2 * (B - sum(l[i] * x[i] for i in range(len(x)))) ** 2\n",
    "\n",
    "    return obj + equality + inequality_1 + inequality_2\n"
   ]
  },
  {
   "cell_type": "code",
   "execution_count": 2,
   "metadata": {},
   "outputs": [
    {
     "name": "stdout",
     "output_type": "stream",
     "text": [
      "Optimized lambdas: [-1.46679107e+54  4.02838525e+53  4.71773811e+53]\n",
      "Final objective value: -1.31321843235518e+55\n"
     ]
    }
   ],
   "source": [
    "from scipy.optimize import minimize\n",
    "\n",
    "# Initial lambda guesses\n",
    "lambdas_init = [10, 5, 20]\n",
    "\n",
    "# Problem parameters\n",
    "c = [[0, 1, 0.5], [1, 0, 0.2], [0.5, 0.2, 0]]\n",
    "h = [2, 3, 1]\n",
    "q = [4, 2, 3]\n",
    "l = [5, 3, 2]\n",
    "C = 10\n",
    "B = 8\n",
    "x = [1, 0, 1]  # Example decision variables\n",
    "\n",
    "# Minimize using Nelder-Mead\n",
    "result = minimize(\n",
    "    qubo_objective, lambdas_init, args=(c, h, q, l, C, B, x),\n",
    "    method='Nelder-Mead'\n",
    ")\n",
    "\n",
    "print(\"Optimized lambdas:\", result.x)\n",
    "print(\"Final objective value:\", result.fun)\n"
   ]
  },
  {
   "cell_type": "code",
   "execution_count": null,
   "metadata": {},
   "outputs": [],
   "source": []
  }
 ],
 "metadata": {
  "kernelspec": {
   "display_name": "Python 3",
   "language": "python",
   "name": "python3"
  },
  "language_info": {
   "codemirror_mode": {
    "name": "ipython",
    "version": 3
   },
   "file_extension": ".py",
   "mimetype": "text/x-python",
   "name": "python",
   "nbconvert_exporter": "python",
   "pygments_lexer": "ipython3",
   "version": "3.10.16"
  }
 },
 "nbformat": 4,
 "nbformat_minor": 2
}
