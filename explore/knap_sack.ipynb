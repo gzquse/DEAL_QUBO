{
 "cells": [
  {
   "cell_type": "code",
   "execution_count": null,
   "metadata": {},
   "outputs": [],
   "source": []
  },
  {
   "cell_type": "code",
   "execution_count": 1,
   "metadata": {},
   "outputs": [
    {
     "name": "stdout",
     "output_type": "stream",
     "text": [
      "(0, 1): 4000\n",
      "(0, 2): 6000\n",
      "(0, 3): 3000\n",
      "(1, 2): 4800\n",
      "(1, 3): 2400\n",
      "(2, 3): 3600\n",
      "(4, 5): 400\n",
      "(4, 6): 800\n",
      "(4, 7): 1600\n",
      "(5, 6): 1600\n",
      "(5, 7): 3200\n",
      "(6, 7): 6400\n",
      "(0, 4): 1000\n",
      "(0, 5): 2000\n",
      "(0, 6): 4000\n",
      "(0, 7): 8000\n",
      "(1, 4): 800\n",
      "(1, 5): 1600\n",
      "(1, 6): 3200\n",
      "(1, 7): 6400\n",
      "(2, 4): 1200\n",
      "(2, 5): 2400\n",
      "(2, 6): 4800\n",
      "(2, 7): 9600\n",
      "(3, 4): 600\n",
      "(3, 5): 1200\n",
      "(3, 6): 2400\n",
      "(3, 7): 4800\n",
      "(0, 0): -7510\n",
      "(1, 1): -6440\n",
      "(2, 2): -8430\n",
      "(3, 3): -5150\n",
      "(4, 4): -1900\n",
      "(5, 5): -3600\n",
      "(6, 6): -6400\n",
      "(7, 7): -9600\n"
     ]
    }
   ],
   "source": [
    "import itertools\n",
    "import numpy as np\n",
    "\n",
    "def knapsack_qubo(values, weights, capacity, penalty):\n",
    "    n_items = len(values)\n",
    "    n_slack = int(np.ceil(np.log2(capacity)))  # Number of slack variables\n",
    "\n",
    "    qubo = {}\n",
    "\n",
    "    # Quadratic terms for decision variables (x_i * x_k)\n",
    "    for i, k in itertools.combinations(range(n_items), 2):\n",
    "        qubo[(i, k)] = 2 * penalty * weights[i] * weights[k]\n",
    "\n",
    "    # Quadratic terms for slack variables (s_j * s_l)\n",
    "    for j, l in itertools.combinations(range(n_slack), 2):\n",
    "        qubo[(n_items + j, n_items + l)] = 2 * penalty * (2 ** j) * (2 ** l)\n",
    "\n",
    "    # Quadratic terms for interactions between decision and slack variables (x_i * s_j)\n",
    "    for i in range(n_items):\n",
    "        for j in range(n_slack):\n",
    "            qubo[(i, n_items + j)] = 2 * penalty * weights[i] * (2 ** j)\n",
    "\n",
    "    # Linear terms for decision variables (x_i)\n",
    "    for i in range(n_items):\n",
    "        qubo[(i, i)] = penalty * weights[i] ** 2 - 2 * penalty * capacity * weights[i] - values[i]\n",
    "\n",
    "    # Linear terms for slack variables (s_j)\n",
    "    for j in range(n_slack):\n",
    "        qubo[(n_items + j, n_items + j)] = penalty * (2 ** (2 * j)) - 2 * penalty * capacity * (2 ** j)\n",
    "\n",
    "    # Constant term (ignored in QUBO solvers)\n",
    "    # constant_term = penalty * capacity ** 2  \n",
    "\n",
    "    return qubo\n",
    "\n",
    "# Example usage\n",
    "values = [10, 40, 30, 50]\n",
    "weights = [5, 4, 6, 3]\n",
    "capacity = 10\n",
    "penalty = 100  # High penalty to enforce constraint\n",
    "\n",
    "qubo = knapsack_qubo(values, weights, capacity, penalty)\n",
    "\n",
    "# Print the QUBO matrix\n",
    "for key, value in qubo.items():\n",
    "    print(f\"{key}: {value}\")\n"
   ]
  },
  {
   "cell_type": "code",
   "execution_count": null,
   "metadata": {},
   "outputs": [],
   "source": []
  }
 ],
 "metadata": {
  "kernelspec": {
   "display_name": "Python 3",
   "language": "python",
   "name": "python3"
  },
  "language_info": {
   "codemirror_mode": {
    "name": "ipython",
    "version": 3
   },
   "file_extension": ".py",
   "mimetype": "text/x-python",
   "name": "python",
   "nbconvert_exporter": "python",
   "pygments_lexer": "ipython3",
   "version": "3.10.16"
  }
 },
 "nbformat": 4,
 "nbformat_minor": 2
}
