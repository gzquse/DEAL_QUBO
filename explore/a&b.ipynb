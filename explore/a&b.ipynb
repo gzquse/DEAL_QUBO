{
 "cells": [
  {
   "cell_type": "code",
   "execution_count": 5,
   "metadata": {},
   "outputs": [
    {
     "name": "stdout",
     "output_type": "stream",
     "text": [
      "Eigenenergies: [ 3. -1. -1. -1.]\n"
     ]
    }
   ],
   "source": [
    "# cost hamiltonian\n",
    "import numpy as np\n",
    "\n",
    "# Define the cost Hamiltonian (example: H_C = Z_0 + Z_1 + Z_0 Z_1)\n",
    "Z = np.array([[1, 0], [0, -1]])  # Pauli-Z matrix\n",
    "I = np.eye(2)  # Identity matrix\n",
    "\n",
    "# Construct H_C for a 2-qubit system\n",
    "H_C = np.kron(Z, I) + np.kron(I, Z) + np.kron(Z, Z)\n",
    "\n",
    "# Diagonalize the Hamiltonian\n",
    "eigenvalues, eigenvectors = np.linalg.eig(H_C)\n",
    "\n",
    "# Eigenenergies are the eigenvalues of H_C\n",
    "eigenenergies = np.real(eigenvalues)  # Take the real part (imaginary part should be zero)\n",
    "print(\"Eigenenergies:\", eigenenergies)"
   ]
  },
  {
   "cell_type": "markdown",
   "metadata": {},
   "source": []
  },
  {
   "cell_type": "code",
   "execution_count": 8,
   "metadata": {},
   "outputs": [
    {
     "ename": "ImportError",
     "evalue": "cannot import name 'SamplerV2' from 'qiskit_aer.primitives' (/pscratch/sd/g/gzquse/QML_2025/.conda/lib/python3.10/site-packages/qiskit_aer/primitives/__init__.py)",
     "output_type": "error",
     "traceback": [
      "\u001b[0;31m---------------------------------------------------------------------------\u001b[0m",
      "\u001b[0;31mImportError\u001b[0m                               Traceback (most recent call last)",
      "Cell \u001b[0;32mIn[8], line 3\u001b[0m\n\u001b[1;32m      1\u001b[0m \u001b[38;5;28;01mfrom\u001b[39;00m\u001b[38;5;250m \u001b[39m\u001b[38;5;21;01mqiskit\u001b[39;00m\u001b[38;5;250m \u001b[39m\u001b[38;5;28;01mimport\u001b[39;00m QuantumCircuit\n\u001b[1;32m      2\u001b[0m \u001b[38;5;28;01mfrom\u001b[39;00m\u001b[38;5;250m \u001b[39m\u001b[38;5;21;01mqiskit_aer\u001b[39;00m\u001b[38;5;250m \u001b[39m\u001b[38;5;28;01mimport\u001b[39;00m AerSimulator\n\u001b[0;32m----> 3\u001b[0m \u001b[38;5;28;01mfrom\u001b[39;00m\u001b[38;5;250m \u001b[39m\u001b[38;5;21;01mqiskit_aer\u001b[39;00m\u001b[38;5;21;01m.\u001b[39;00m\u001b[38;5;21;01mprimitives\u001b[39;00m\u001b[38;5;250m \u001b[39m\u001b[38;5;28;01mimport\u001b[39;00m SamplerV2\n",
      "\u001b[0;31mImportError\u001b[0m: cannot import name 'SamplerV2' from 'qiskit_aer.primitives' (/pscratch/sd/g/gzquse/QML_2025/.conda/lib/python3.10/site-packages/qiskit_aer/primitives/__init__.py)"
     ]
    }
   ],
   "source": [
    "from qiskit import QuantumCircuit\n",
    "from qiskit_aer import AerSimulator\n",
    "from qiskit_aer.primitives import SamplerV2"
   ]
  },
  {
   "cell_type": "code",
   "execution_count": null,
   "metadata": {},
   "outputs": [],
   "source": [
    "sim = AerSimulator()\n",
    "# --------------------------\n",
    "# Simulating using estimator\n",
    "#---------------------------\n",
    "from qiskit_aer.primitives import EstimatorV2\n",
    "\n",
    "psi1 = transpile(RealAmplitudes(num_qubits=2, reps=2), sim, optimization_level=0)\n",
    "psi2 = transpile(RealAmplitudes(num_qubits=2, reps=3), sim, optimization_level=0)\n",
    "\n",
    "H1 = SparsePauliOp.from_list([(\"II\", 1), (\"IZ\", 2), (\"XI\", 3)])\n",
    "H2 = SparsePauliOp.from_list([(\"IZ\", 1)])\n",
    "H3 = SparsePauliOp.from_list([(\"ZI\", 1), (\"ZZ\", 1)])\n",
    "\n",
    "theta1 = [0, 1, 1, 2, 3, 5]\n",
    "theta2 = [0, 1, 1, 2, 3, 5, 8, 13]\n",
    "theta3 = [1, 2, 3, 4, 5, 6]\n",
    "\n",
    "estimator = EstimatorV2()\n",
    "\n",
    "# calculate [ [<psi1(theta1)|H1|psi1(theta1)>,\n",
    "#              <psi1(theta3)|H3|psi1(theta3)>],\n",
    "#             [<psi2(theta2)|H2|psi2(theta2)>] ]\n",
    "job = estimator.run(\n",
    "    [\n",
    "        (psi1, [H1, H3], [theta1, theta3]),\n",
    "        (psi2, H2, theta2)\n",
    "    ],\n",
    "    precision=0.01\n",
    ")\n",
    "result = job.result()\n",
    "print(f\"expectation values : psi1 = {result[0].data.evs}, psi2 = {result[1].data.evs}\")"
   ]
  },
  {
   "cell_type": "code",
   "execution_count": null,
   "metadata": {},
   "outputs": [],
   "source": [
    "\n",
    "\n",
    "# Number of qubits (photon transmissions)\n",
    "num_bits = 100\n",
    "\n",
    "# Step 1: Alice prepares qubits\n",
    "alice_bits = np.random.randint(2, size=num_bits)  # Random bits 0 or 1\n",
    "alice_bases = np.random.randint(2, size=num_bits)  # 0 = Z-basis, 1 = X-basis\n",
    "\n",
    "# Step 2: Create Qiskit circuits for each qubit\n",
    "circuits = []\n",
    "for bit, basis in zip(alice_bits, alice_bases):\n",
    "    qc = QuantumCircuit(1, 1)\n",
    "    if bit == 1:\n",
    "        qc.x(0)  # Apply X gate for bit=1\n",
    "    if basis == 1:\n",
    "        qc.h(0)  # Apply H if Alice's basis is X\n",
    "    circuits.append(qc)\n",
    "\n",
    "# Step 3: Bob randomly chooses bases and measures\n",
    "bob_bases = np.random.randint(2, size=num_bits)\n",
    "\n",
    "# Step 4: Execute quantum circuits\n",
    "backend = Aer.get_backend('qasm_simulator')\n",
    "measurements = []\n",
    "for i in range(num_bits):\n",
    "    qc = circuits[i]\n",
    "    if bob_bases[i] == 1:\n",
    "        qc.h(0)  # Bob applies H if measuring in X-basis\n",
    "    qc.measure(0, 0)\n",
    "    result = execute(qc, backend, shots=1).result()\n",
    "    counts = result.get_counts()\n",
    "    measured_bit = int(list(counts.keys())[0])  # Get measured bit\n",
    "    measurements.append(measured_bit)\n",
    "\n",
    "# Step 5: Alice and Bob discard mismatched basis measurements\n",
    "valid_indices = np.where(alice_bases == bob_bases)[0]\n",
    "key_alice = alice_bits[valid_indices]\n",
    "key_bob = np.array(measurements)[valid_indices]\n",
    "\n",
    "# Step 6: Display the shared key\n",
    "print(\"Alice's raw key:\", key_alice)\n",
    "print(\"Bob's raw key:  \", key_bob)\n",
    "\n",
    "# Final key after removing errors (if any)\n",
    "final_key = key_alice[key_alice == key_bob]  # Remove errors\n",
    "print(\"Final shared key:\", final_key)\n"
   ]
  }
 ],
 "metadata": {
  "kernelspec": {
   "display_name": ".conda",
   "language": "python",
   "name": "python3"
  },
  "language_info": {
   "codemirror_mode": {
    "name": "ipython",
    "version": 3
   },
   "file_extension": ".py",
   "mimetype": "text/x-python",
   "name": "python",
   "nbconvert_exporter": "python",
   "pygments_lexer": "ipython3",
   "version": "3.10.16"
  }
 },
 "nbformat": 4,
 "nbformat_minor": 2
}
